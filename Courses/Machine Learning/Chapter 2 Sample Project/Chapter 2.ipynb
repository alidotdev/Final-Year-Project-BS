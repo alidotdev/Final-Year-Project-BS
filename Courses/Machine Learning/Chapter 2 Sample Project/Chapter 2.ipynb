{
 "cells": [
  {
   "cell_type": "markdown",
   "id": "324d47e4",
   "metadata": {},
   "source": [
    "# Chapter 2 Sample Projetc Implementation"
   ]
  },
  {
   "cell_type": "markdown",
   "id": "36fc7a2e",
   "metadata": {},
   "source": [
    "## Table of Content"
   ]
  },
  {
   "cell_type": "markdown",
   "id": "cb1cb9b1",
   "metadata": {},
   "source": [
    "**1. Look at the big picture**\n",
    " - [ ] Define your problem\n",
    " - [ ] Frame your problem (Who wants this solution)\n",
    " - [ ] Select Performance Measure\n",
    " \n",
    "**2. Get the Data**\n",
    " - [ ] Provide Download link of the data\n",
    " - [ ] Take a quick look at the data structure\n",
    " - [ ] Make histograms of the data\n",
    "\n",
    "**3. Discover  and Visualiza the data to gain insights**\n",
    " - [ ] Visualizing graphical data\n",
    " - [ ] Looking for correlations\n",
    " - [ ] Experimenting with attribute combinations (new attribute if required)\n",
    "\n",
    "**4. Prepare the data for Machine Learning Algorithm**\n",
    " - [ ] Data Cleaning\n",
    " - [ ] Handling Text and catagorical attributes\n",
    " - [ ] Custom Transformers\n",
    " - [ ] Feature Scaling\n",
    " \n",
    "**5. Select the model and train it**\n",
    " - [ ] Training and Evaluating on the training data set\n",
    " - [ ] Cross-validation\n",
    "\n",
    "**6. Fine tune your model**\n",
    " - [ ] Grid Search\n",
    " - [ ] Randomized Search\n",
    " - [ ] Analyze best models and their performance\n",
    " - [ ] Evaluate your system on test set\n",
    "\n",
    "**7. Present your solution**\n",
    "\n",
    "**8. Launch monitor and maintain your system**"
   ]
  },
  {
   "cell_type": "markdown",
   "id": "dc436c4a",
   "metadata": {},
   "source": [
    "## Look at the big picture"
   ]
  },
  {
   "cell_type": "markdown",
   "id": "77000691",
   "metadata": {},
   "source": [
    "Here is what our actual problem is:"
   ]
  },
  {
   "cell_type": "markdown",
   "id": "edce56a7",
   "metadata": {},
   "source": [
    "### Define Your Problem"
   ]
  },
  {
   "cell_type": "markdown",
   "id": "ef1d7ae4",
   "metadata": {},
   "source": [
    "Uber is a taxi company that has thousands of daily customers and lacs of daily transaction. So company needs a needs a system that accurately handle its fare system. This project is focused on predicting prices of the ride so that these fares are affordable for customer, driver has his margin and tha comapny goes in profit."
   ]
  },
  {
   "cell_type": "markdown",
   "id": "48a3294a",
   "metadata": {},
   "source": [
    "### Frame Your Problem"
   ]
  },
  {
   "cell_type": "markdown",
   "id": "fc9ad839",
   "metadata": {},
   "source": [
    "Company needs this solution. As many competitors are in market, so company wants fare charges from the customers."
   ]
  },
  {
   "cell_type": "markdown",
   "id": "f5978b2f",
   "metadata": {},
   "source": [
    "### Select Performance Measure"
   ]
  },
  {
   "cell_type": "markdown",
   "id": "c349b773",
   "metadata": {},
   "source": [
    "As this model predicting continous values (fares for the customer), Performance measure like **RMSE (Root Mean Squared Error)** \n",
    "or **MAE (Mean Absolute Error)** would be used. There formulas are given below:\n",
    "$$\n",
    "RMSE(X,h)=\\sqrt{\\frac{1}{m}\\sum_{i = 1}^{m}(h (x^{(i)})-y^{(i)})^2}\n",
    "$$                                            \n",
    "\n",
    "$$\n",
    "MAE(X, h)=\\frac{1}{m}\\sum_{i = 1}^{m}\\left |  h (x^{(i)}-y^{(i)}\\right |\n",
    "$$\n"
   ]
  },
  {
   "cell_type": "markdown",
   "id": "79a731ab",
   "metadata": {},
   "source": [
    "## Get the Data"
   ]
  },
  {
   "cell_type": "markdown",
   "id": "5d6e9c5a",
   "metadata": {},
   "source": [
    " [Dataset (csv file in zip format)](https://www.kaggle.com/datasets/yasserh/uber-fares-dataset/download?datasetVersionNumber=1)"
   ]
  },
  {
   "cell_type": "markdown",
   "id": "58ece4cb",
   "metadata": {},
   "source": [
    "### Take a quick look at the Data Structure"
   ]
  },
  {
   "cell_type": "code",
   "execution_count": 1,
   "id": "a8605137",
   "metadata": {},
   "outputs": [],
   "source": [
    "import pandas as pd"
   ]
  },
  {
   "cell_type": "code",
   "execution_count": 2,
   "id": "a6c6e167",
   "metadata": {},
   "outputs": [
    {
     "data": {
      "text/html": [
       "<div>\n",
       "<style scoped>\n",
       "    .dataframe tbody tr th:only-of-type {\n",
       "        vertical-align: middle;\n",
       "    }\n",
       "\n",
       "    .dataframe tbody tr th {\n",
       "        vertical-align: top;\n",
       "    }\n",
       "\n",
       "    .dataframe thead th {\n",
       "        text-align: right;\n",
       "    }\n",
       "</style>\n",
       "<table border=\"1\" class=\"dataframe\">\n",
       "  <thead>\n",
       "    <tr style=\"text-align: right;\">\n",
       "      <th></th>\n",
       "      <th>Unnamed: 0</th>\n",
       "      <th>key</th>\n",
       "      <th>fare_amount</th>\n",
       "      <th>pickup_datetime</th>\n",
       "      <th>pickup_longitude</th>\n",
       "      <th>pickup_latitude</th>\n",
       "      <th>dropoff_longitude</th>\n",
       "      <th>dropoff_latitude</th>\n",
       "      <th>passenger_count</th>\n",
       "    </tr>\n",
       "  </thead>\n",
       "  <tbody>\n",
       "    <tr>\n",
       "      <th>0</th>\n",
       "      <td>24238194</td>\n",
       "      <td>2015-05-07 19:52:06.0000003</td>\n",
       "      <td>7.5</td>\n",
       "      <td>2015-05-07 19:52:06 UTC</td>\n",
       "      <td>-73.999817</td>\n",
       "      <td>40.738354</td>\n",
       "      <td>-73.999512</td>\n",
       "      <td>40.723217</td>\n",
       "      <td>1</td>\n",
       "    </tr>\n",
       "    <tr>\n",
       "      <th>1</th>\n",
       "      <td>27835199</td>\n",
       "      <td>2009-07-17 20:04:56.0000002</td>\n",
       "      <td>7.7</td>\n",
       "      <td>2009-07-17 20:04:56 UTC</td>\n",
       "      <td>-73.994355</td>\n",
       "      <td>40.728225</td>\n",
       "      <td>-73.994710</td>\n",
       "      <td>40.750325</td>\n",
       "      <td>1</td>\n",
       "    </tr>\n",
       "    <tr>\n",
       "      <th>2</th>\n",
       "      <td>44984355</td>\n",
       "      <td>2009-08-24 21:45:00.00000061</td>\n",
       "      <td>12.9</td>\n",
       "      <td>2009-08-24 21:45:00 UTC</td>\n",
       "      <td>-74.005043</td>\n",
       "      <td>40.740770</td>\n",
       "      <td>-73.962565</td>\n",
       "      <td>40.772647</td>\n",
       "      <td>1</td>\n",
       "    </tr>\n",
       "    <tr>\n",
       "      <th>3</th>\n",
       "      <td>25894730</td>\n",
       "      <td>2009-06-26 08:22:21.0000001</td>\n",
       "      <td>5.3</td>\n",
       "      <td>2009-06-26 08:22:21 UTC</td>\n",
       "      <td>-73.976124</td>\n",
       "      <td>40.790844</td>\n",
       "      <td>-73.965316</td>\n",
       "      <td>40.803349</td>\n",
       "      <td>3</td>\n",
       "    </tr>\n",
       "    <tr>\n",
       "      <th>4</th>\n",
       "      <td>17610152</td>\n",
       "      <td>2014-08-28 17:47:00.000000188</td>\n",
       "      <td>16.0</td>\n",
       "      <td>2014-08-28 17:47:00 UTC</td>\n",
       "      <td>-73.925023</td>\n",
       "      <td>40.744085</td>\n",
       "      <td>-73.973082</td>\n",
       "      <td>40.761247</td>\n",
       "      <td>5</td>\n",
       "    </tr>\n",
       "  </tbody>\n",
       "</table>\n",
       "</div>"
      ],
      "text/plain": [
       "   Unnamed: 0                            key  fare_amount  \\\n",
       "0    24238194    2015-05-07 19:52:06.0000003          7.5   \n",
       "1    27835199    2009-07-17 20:04:56.0000002          7.7   \n",
       "2    44984355   2009-08-24 21:45:00.00000061         12.9   \n",
       "3    25894730    2009-06-26 08:22:21.0000001          5.3   \n",
       "4    17610152  2014-08-28 17:47:00.000000188         16.0   \n",
       "\n",
       "           pickup_datetime  pickup_longitude  pickup_latitude  \\\n",
       "0  2015-05-07 19:52:06 UTC        -73.999817        40.738354   \n",
       "1  2009-07-17 20:04:56 UTC        -73.994355        40.728225   \n",
       "2  2009-08-24 21:45:00 UTC        -74.005043        40.740770   \n",
       "3  2009-06-26 08:22:21 UTC        -73.976124        40.790844   \n",
       "4  2014-08-28 17:47:00 UTC        -73.925023        40.744085   \n",
       "\n",
       "   dropoff_longitude  dropoff_latitude  passenger_count  \n",
       "0         -73.999512         40.723217                1  \n",
       "1         -73.994710         40.750325                1  \n",
       "2         -73.962565         40.772647                1  \n",
       "3         -73.965316         40.803349                3  \n",
       "4         -73.973082         40.761247                5  "
      ]
     },
     "execution_count": 2,
     "metadata": {},
     "output_type": "execute_result"
    }
   ],
   "source": [
    "uber_data = pd.read_csv('uber.csv')\n",
    "uber_data.head()    # First 5 entries of data"
   ]
  },
  {
   "cell_type": "code",
   "execution_count": 3,
   "id": "b374f72f",
   "metadata": {},
   "outputs": [
    {
     "name": "stdout",
     "output_type": "stream",
     "text": [
      "<class 'pandas.core.frame.DataFrame'>\n",
      "RangeIndex: 200000 entries, 0 to 199999\n",
      "Data columns (total 9 columns):\n",
      " #   Column             Non-Null Count   Dtype  \n",
      "---  ------             --------------   -----  \n",
      " 0   Unnamed: 0         200000 non-null  int64  \n",
      " 1   key                200000 non-null  object \n",
      " 2   fare_amount        200000 non-null  float64\n",
      " 3   pickup_datetime    200000 non-null  object \n",
      " 4   pickup_longitude   200000 non-null  float64\n",
      " 5   pickup_latitude    200000 non-null  float64\n",
      " 6   dropoff_longitude  199999 non-null  float64\n",
      " 7   dropoff_latitude   199999 non-null  float64\n",
      " 8   passenger_count    200000 non-null  int64  \n",
      "dtypes: float64(5), int64(2), object(2)\n",
      "memory usage: 13.7+ MB\n"
     ]
    }
   ],
   "source": [
    "uber_data.info()"
   ]
  },
  {
   "cell_type": "markdown",
   "id": "11fbfd1b",
   "metadata": {},
   "source": [
    "### Plotting Histograms"
   ]
  },
  {
   "cell_type": "code",
   "execution_count": 4,
   "id": "81addbfb",
   "metadata": {},
   "outputs": [
    {
     "data": {
      "image/png": "[encoded data removed]",
      "text/plain": [
       "<Figure size 2000x1500 with 9 Axes>"
      ]
     },
     "metadata": {},
     "output_type": "display_data"
    }
   ],
   "source": [
    "import matplotlib.pyplot as plt\n",
    "uber_data.hist(bins=50, figsize=(20,15))\n",
    "plt.show()\n"
   ]
  },
  {
   "cell_type": "markdown",
   "id": "5df2eee4",
   "metadata": {},
   "source": [
    "From above plot, only key attribute is random. Other attributes mostly in single classes. Now further explore locational data."
   ]
  },
  {
   "cell_type": "markdown",
   "id": "f19101df",
   "metadata": {},
   "source": [
    "### Discover and Visualize data to gain insights"
   ]
  },
  {
   "cell_type": "markdown",
   "id": "164e111b",
   "metadata": {},
   "source": [
    "Here data is visualized through graphs to gain information about geographical attributes"
   ]
  },
  {
   "cell_type": "code",
   "execution_count": 5,
   "id": "6247a0d3",
   "metadata": {},
   "outputs": [
    {
     "data": {
      "text/plain": [
       "[]"
      ]
     },
     "execution_count": 5,
     "metadata": {},
     "output_type": "execute_result"
    },
    {
     "data": {
      "image/png": "[encoded data removed]",
      "text/plain": [
       "<Figure size 500x400 with 1 Axes>"
      ]
     },
     "metadata": {},
     "output_type": "display_data"
    },
    {
     "data": {
      "image/png": "[encoded data removed]",
      "text/plain": [
       "<Figure size 500x400 with 1 Axes>"
      ]
     },
     "metadata": {},
     "output_type": "display_data"
    }
   ],
   "source": [
    "import matplotlib.pyplot as plt\n",
    "\n",
    "# Plotting scatter graph between pickup_longitude and pickup_latitude\n",
    "\n",
    "# Simple distribution shown\n",
    "uber_data.plot( kind='scatter' , x ='pickup_longitude', y = 'pickup_latitude'  , figsize=(5,4))\n",
    "\n",
    "# Distribution Shown, more darker means more frequency attain\n",
    "uber_data.plot( kind='scatter' , x ='pickup_longitude', y = 'pickup_latitude'  , figsize=(5,4), alpha = 0.1)\n",
    "plt.plot()"
   ]
  },
  {
   "cell_type": "markdown",
   "id": "e6ee161c",
   "metadata": {},
   "source": [
    "Now dropoff latitude and dropoff longitude graph"
   ]
  },
  {
   "cell_type": "code",
   "execution_count": 6,
   "id": "688298fd",
   "metadata": {},
   "outputs": [
    {
     "data": {
      "text/plain": [
       "[]"
      ]
     },
     "execution_count": 6,
     "metadata": {},
     "output_type": "execute_result"
    },
    {
     "data": {
      "image/png": "[encoded data removed]",
      "text/plain": [
       "<Figure size 500x400 with 1 Axes>"
      ]
     },
     "metadata": {},
     "output_type": "display_data"
    },
    {
     "data": {
      "image/png": "[encoded data removed]",
      "text/plain": [
       "<Figure size 500x400 with 1 Axes>"
      ]
     },
     "metadata": {},
     "output_type": "display_data"
    }
   ],
   "source": [
    "import matplotlib.pyplot as plt\n",
    "\n",
    "# Plotting scatter graph between pickup_longitude and pickup_latitude\n",
    "\n",
    "# Simple distribution shown\n",
    "uber_data.plot( kind='scatter' , x ='dropoff_longitude', y = 'dropoff_latitude'  , figsize=(5,4))\n",
    "\n",
    "# Distribution Shown, more darker means more frequency attain\n",
    "uber_data.plot( kind='scatter' , x ='dropoff_longitude', y = 'dropoff_latitude'  , figsize=(5,4), alpha = 0.1)\n",
    "plt.plot()"
   ]
  },
  {
   "cell_type": "markdown",
   "id": "8b6dce2c",
   "metadata": {},
   "source": [
    "From here we can deduce the result that result is biased and few spaces are just used for piching up and dropping off. And dark spaces are those which are used many times."
   ]
  },
  {
   "cell_type": "markdown",
   "id": "f5d81fa5",
   "metadata": {},
   "source": [
    "### Looking for corelation"
   ]
  },
  {
   "cell_type": "markdown",
   "id": "dbeb23cb",
   "metadata": {},
   "source": [
    "This dataset is not too large, so we can see the corelation of every attribute with all other attributes."
   ]
  },
  {
   "cell_type": "code",
   "execution_count": 7,
   "id": "2aea7649",
   "metadata": {},
   "outputs": [],
   "source": [
    "# Using Python Function corr()\n",
    "\n",
    "corr_matrix = uber_data.corr()"
   ]
  },
  {
   "cell_type": "code",
   "execution_count": 8,
   "id": "de9a6585",
   "metadata": {},
   "outputs": [
    {
     "data": {
      "text/plain": [
       "fare_amount          1.000000\n",
       "pickup_longitude     0.010457\n",
       "passenger_count      0.010150\n",
       "dropoff_longitude    0.008986\n",
       "Unnamed: 0           0.000589\n",
       "pickup_latitude     -0.008481\n",
       "dropoff_latitude    -0.011014\n",
       "Name: fare_amount, dtype: float64"
      ]
     },
     "execution_count": 8,
     "metadata": {},
     "output_type": "execute_result"
    }
   ],
   "source": [
    "corr_matrix['fare_amount'].sort_values(ascending = False)"
   ]
  },
  {
   "cell_type": "markdown",
   "id": "0201176d",
   "metadata": {},
   "source": [
    "Does not have strong corelation with any attribute."
   ]
  },
  {
   "cell_type": "markdown",
   "id": "1a3776d1",
   "metadata": {},
   "source": [
    "### Experimenting with new attributes"
   ]
  },
  {
   "cell_type": "markdown",
   "id": "8ce5795f",
   "metadata": {},
   "source": [
    "Here in this dataset, we have total 9 fieds and out whatsof them 4 are locational attributes (pickup_longitude, pickup_latitude, dropoff_latitude, dropofflogitude. So if someone tries to make new field, then these attributes are combined to reprsent a single location."
   ]
  },
  {
   "cell_type": "markdown",
   "id": "16076b57",
   "metadata": {},
   "source": [
    "## Preparing data for Machine Learning"
   ]
  },
  {
   "cell_type": "markdown",
   "id": "c883a0eb",
   "metadata": {},
   "source": [
    "### Data Cleaning"
   ]
  },
  {
   "cell_type": "markdown",
   "id": "eadc5e18",
   "metadata": {},
   "source": [
    "Now clean the data of above csv file. This step involves identifying and removing any missing, duplicate, or inconsistent data. This step is crucial as it can greatly impact the performance of the model."
   ]
  },
  {
   "cell_type": "code",
   "execution_count": 9,
   "id": "fdf505db",
   "metadata": {},
   "outputs": [
    {
     "data": {
      "text/plain": [
       "Unnamed: 0           200000\n",
       "key                  200000\n",
       "fare_amount          200000\n",
       "pickup_datetime      200000\n",
       "pickup_longitude     200000\n",
       "pickup_latitude      200000\n",
       "dropoff_longitude    199999\n",
       "dropoff_latitude     199999\n",
       "passenger_count      200000\n",
       "dtype: int64"
      ]
     },
     "execution_count": 9,
     "metadata": {},
     "output_type": "execute_result"
    }
   ],
   "source": [
    "uber_data.count()\n",
    "#Implement model without data clening and observe results"
   ]
  },
  {
   "cell_type": "markdown",
   "id": "846a9e62",
   "metadata": {},
   "source": [
    "As we can see above, we have one value missing in \"dropoff_longitude\" and \"dropoff_latitude\". "
   ]
  },
  {
   "cell_type": "markdown",
   "id": "3d21a7fb",
   "metadata": {},
   "source": [
    "Possible actions that could be done for this data cleaning are:\n",
    " - Remove rows containing null values\n",
    " - Replace with default values\n",
    " - Interpolation (Interpolation is a method of estimating missing values by filling in the gaps between known values. This method is useful when the missing values are not at random)\n",
    " - Imputation (Imputation is a method of estimating missing values by using statistical methods)\n",
    " - Ignore (only if missing values are small. It may generate error during training of model)"
   ]
  },
  {
   "cell_type": "markdown",
   "id": "ea4a7e09",
   "metadata": {},
   "source": [
    "Let say we are removing row containing null value. As other methods are not best fit for our situation."
   ]
  },
  {
   "cell_type": "code",
   "execution_count": 10,
   "id": "7bf094cb",
   "metadata": {},
   "outputs": [],
   "source": [
    "uber_data_drop = uber_data.dropna(how='any',axis=0) "
   ]
  },
  {
   "cell_type": "markdown",
   "id": "861b9bb3",
   "metadata": {},
   "source": [
    "Now checking count of every attribute"
   ]
  },
  {
   "cell_type": "code",
   "execution_count": 11,
   "id": "1d35ef56",
   "metadata": {},
   "outputs": [
    {
     "data": {
      "text/plain": [
       "Unnamed: 0           199999\n",
       "key                  199999\n",
       "fare_amount          199999\n",
       "pickup_datetime      199999\n",
       "pickup_longitude     199999\n",
       "pickup_latitude      199999\n",
       "dropoff_longitude    199999\n",
       "dropoff_latitude     199999\n",
       "passenger_count      199999\n",
       "dtype: int64"
      ]
     },
     "execution_count": 11,
     "metadata": {},
     "output_type": "execute_result"
    }
   ],
   "source": [
    "uber_data_drop.count()"
   ]
  },
  {
   "cell_type": "markdown",
   "id": "a1505bd8",
   "metadata": {},
   "source": [
    "We have successfully removed the row that contain null value."
   ]
  },
  {
   "cell_type": "markdown",
   "id": "2e507fb8",
   "metadata": {},
   "source": [
    "Or this may be done by putting 0 as a defalt value."
   ]
  },
  {
   "cell_type": "code",
   "execution_count": 12,
   "id": "f7d84ae3",
   "metadata": {},
   "outputs": [],
   "source": [
    "uber_data_defalt = uber_data.fillna(0)"
   ]
  },
  {
   "cell_type": "code",
   "execution_count": 13,
   "id": "d60106ab",
   "metadata": {},
   "outputs": [
    {
     "data": {
      "text/plain": [
       "Unnamed: 0           200000\n",
       "key                  200000\n",
       "fare_amount          200000\n",
       "pickup_datetime      200000\n",
       "pickup_longitude     200000\n",
       "pickup_latitude      200000\n",
       "dropoff_longitude    200000\n",
       "dropoff_latitude     200000\n",
       "passenger_count      200000\n",
       "dtype: int64"
      ]
     },
     "execution_count": 13,
     "metadata": {},
     "output_type": "execute_result"
    }
   ],
   "source": [
    "uber_data_defalt.count()"
   ]
  },
  {
   "cell_type": "markdown",
   "id": "2f617c9b",
   "metadata": {},
   "source": [
    "We have replaced null values with 0 as a defalt value."
   ]
  },
  {
   "cell_type": "code",
   "execution_count": 14,
   "id": "bcbf3740",
   "metadata": {},
   "outputs": [
    {
     "data": {
      "text/html": [
       "<div>\n",
       "<style scoped>\n",
       "    .dataframe tbody tr th:only-of-type {\n",
       "        vertical-align: middle;\n",
       "    }\n",
       "\n",
       "    .dataframe tbody tr th {\n",
       "        vertical-align: top;\n",
       "    }\n",
       "\n",
       "    .dataframe thead th {\n",
       "        text-align: right;\n",
       "    }\n",
       "</style>\n",
       "<table border=\"1\" class=\"dataframe\">\n",
       "  <thead>\n",
       "    <tr style=\"text-align: right;\">\n",
       "      <th></th>\n",
       "      <th>Unnamed: 0</th>\n",
       "      <th>fare_amount</th>\n",
       "      <th>pickup_longitude</th>\n",
       "      <th>pickup_latitude</th>\n",
       "      <th>dropoff_longitude</th>\n",
       "      <th>dropoff_latitude</th>\n",
       "      <th>passenger_count</th>\n",
       "    </tr>\n",
       "  </thead>\n",
       "  <tbody>\n",
       "    <tr>\n",
       "      <th>count</th>\n",
       "      <td>2.000000e+05</td>\n",
       "      <td>200000.000000</td>\n",
       "      <td>200000.000000</td>\n",
       "      <td>200000.000000</td>\n",
       "      <td>200000.000000</td>\n",
       "      <td>200000.000000</td>\n",
       "      <td>200000.000000</td>\n",
       "    </tr>\n",
       "    <tr>\n",
       "      <th>mean</th>\n",
       "      <td>2.771250e+07</td>\n",
       "      <td>11.359955</td>\n",
       "      <td>-72.527638</td>\n",
       "      <td>39.935885</td>\n",
       "      <td>-72.524929</td>\n",
       "      <td>39.923691</td>\n",
       "      <td>1.684535</td>\n",
       "    </tr>\n",
       "    <tr>\n",
       "      <th>std</th>\n",
       "      <td>1.601382e+07</td>\n",
       "      <td>9.901776</td>\n",
       "      <td>11.437787</td>\n",
       "      <td>7.720539</td>\n",
       "      <td>13.118377</td>\n",
       "      <td>6.795398</td>\n",
       "      <td>1.385997</td>\n",
       "    </tr>\n",
       "    <tr>\n",
       "      <th>min</th>\n",
       "      <td>1.000000e+00</td>\n",
       "      <td>-52.000000</td>\n",
       "      <td>-1340.648410</td>\n",
       "      <td>-74.015515</td>\n",
       "      <td>-3356.666300</td>\n",
       "      <td>-881.985513</td>\n",
       "      <td>0.000000</td>\n",
       "    </tr>\n",
       "    <tr>\n",
       "      <th>25%</th>\n",
       "      <td>1.382535e+07</td>\n",
       "      <td>6.000000</td>\n",
       "      <td>-73.992065</td>\n",
       "      <td>40.734796</td>\n",
       "      <td>-73.991407</td>\n",
       "      <td>40.733823</td>\n",
       "      <td>1.000000</td>\n",
       "    </tr>\n",
       "    <tr>\n",
       "      <th>50%</th>\n",
       "      <td>2.774550e+07</td>\n",
       "      <td>8.500000</td>\n",
       "      <td>-73.981823</td>\n",
       "      <td>40.752592</td>\n",
       "      <td>-73.980093</td>\n",
       "      <td>40.753042</td>\n",
       "      <td>1.000000</td>\n",
       "    </tr>\n",
       "    <tr>\n",
       "      <th>75%</th>\n",
       "      <td>4.155530e+07</td>\n",
       "      <td>12.500000</td>\n",
       "      <td>-73.967154</td>\n",
       "      <td>40.767158</td>\n",
       "      <td>-73.963658</td>\n",
       "      <td>40.768001</td>\n",
       "      <td>2.000000</td>\n",
       "    </tr>\n",
       "    <tr>\n",
       "      <th>max</th>\n",
       "      <td>5.542357e+07</td>\n",
       "      <td>499.000000</td>\n",
       "      <td>57.418457</td>\n",
       "      <td>1644.421482</td>\n",
       "      <td>1153.572603</td>\n",
       "      <td>872.697628</td>\n",
       "      <td>208.000000</td>\n",
       "    </tr>\n",
       "  </tbody>\n",
       "</table>\n",
       "</div>"
      ],
      "text/plain": [
       "         Unnamed: 0    fare_amount  pickup_longitude  pickup_latitude  \\\n",
       "count  2.000000e+05  200000.000000     200000.000000    200000.000000   \n",
       "mean   2.771250e+07      11.359955        -72.527638        39.935885   \n",
       "std    1.601382e+07       9.901776         11.437787         7.720539   \n",
       "min    1.000000e+00     -52.000000      -1340.648410       -74.015515   \n",
       "25%    1.382535e+07       6.000000        -73.992065        40.734796   \n",
       "50%    2.774550e+07       8.500000        -73.981823        40.752592   \n",
       "75%    4.155530e+07      12.500000        -73.967154        40.767158   \n",
       "max    5.542357e+07     499.000000         57.418457      1644.421482   \n",
       "\n",
       "       dropoff_longitude  dropoff_latitude  passenger_count  \n",
       "count      200000.000000     200000.000000    200000.000000  \n",
       "mean          -72.524929         39.923691         1.684535  \n",
       "std            13.118377          6.795398         1.385997  \n",
       "min         -3356.666300       -881.985513         0.000000  \n",
       "25%           -73.991407         40.733823         1.000000  \n",
       "50%           -73.980093         40.753042         1.000000  \n",
       "75%           -73.963658         40.768001         2.000000  \n",
       "max          1153.572603        872.697628       208.000000  "
      ]
     },
     "execution_count": 14,
     "metadata": {},
     "output_type": "execute_result"
    }
   ],
   "source": [
    "uber_data_defalt.describe()"
   ]
  },
  {
   "cell_type": "markdown",
   "id": "e8e90e4e",
   "metadata": {},
   "source": [
    "As our mostly data is locations. So describe does not give us much more information about our data."
   ]
  },
  {
   "cell_type": "markdown",
   "id": "172c3875",
   "metadata": {},
   "source": [
    "> Now we have data in two forms. We would procede in both case (Removing null rows, Setting default values). But as it is a single row that is altered. It is highly minute in quantity as compared to total data quantity (200000). It does not affect alot on the performance of the model."
   ]
  },
  {
   "cell_type": "markdown",
   "id": "6e3a22e2",
   "metadata": {},
   "source": [
    "### Handling Text and Catagorical Attributes"
   ]
  },
  {
   "cell_type": "markdown",
   "id": "58fdfdd1",
   "metadata": {},
   "source": [
    "Text handling is an important part before delivering data to model to train. Most of the models does work on strings. They need numaric data for processing. So for this string to numaric converiosn, two methods are proposed here.\n",
    "\n",
    "\n",
    "- **Ordinal Encoding** (assigns a unique integer value to each category in a categorical variable.)\n",
    "- **One Hot Encoding** (creates new binary columns for each unique category in a categorical variable. Each observation is represented by a 1 in the column corresponding to its category and 0s in all other columns.)"
   ]
  },
  {
   "cell_type": "markdown",
   "id": "3026dd67",
   "metadata": {},
   "source": [
    "Both thses encoding are not applied to our dataset. Because our dataset does not contain any string data."
   ]
  },
  {
   "cell_type": "markdown",
   "id": "2f4bbf32",
   "metadata": {},
   "source": [
    "### Custom Transformers"
   ]
  },
  {
   "cell_type": "markdown",
   "id": "50e633d1",
   "metadata": {},
   "source": [
    "Custom transformers are user-defined classes that perform a specific transformation on the data. These classes can be used to perform custom preprocessing steps that are not provided by the libraries."
   ]
  },
  {
   "cell_type": "markdown",
   "id": "cac02027",
   "metadata": {},
   "source": [
    "Custom transformr for geting data filling with 0 as a default value could get through the following code:"
   ]
  },
  {
   "cell_type": "code",
   "execution_count": 15,
   "id": "10d9c951",
   "metadata": {},
   "outputs": [],
   "source": [
    "from sklearn.base import TransformerMixin, BaseEstimator\n",
    "\n",
    "\n",
    "class Remove_Null_Transformer(TransformerMixin, BaseEstimator):\n",
    "    def __init__(self):\n",
    "        pass\n",
    "    \n",
    "    def transform(self, data):\n",
    "        return data.fillna(0)"
   ]
  },
  {
   "cell_type": "code",
   "execution_count": 16,
   "id": "73ee6760",
   "metadata": {},
   "outputs": [
    {
     "data": {
      "text/plain": [
       "Unnamed: 0           200000\n",
       "key                  200000\n",
       "fare_amount          200000\n",
       "pickup_datetime      200000\n",
       "pickup_longitude     200000\n",
       "pickup_latitude      200000\n",
       "dropoff_longitude    200000\n",
       "dropoff_latitude     200000\n",
       "passenger_count      200000\n",
       "dtype: int64"
      ]
     },
     "execution_count": 16,
     "metadata": {},
     "output_type": "execute_result"
    }
   ],
   "source": [
    "trans = Remove_Null_Transformer()\n",
    "\n",
    "uber = trans.transform(uber_data)\n",
    "uber.count()"
   ]
  },
  {
   "cell_type": "markdown",
   "id": "9daf4e58",
   "metadata": {},
   "source": [
    "### Feature Scaling"
   ]
  },
  {
   "cell_type": "markdown",
   "id": "6d16cf62",
   "metadata": {},
   "source": [
    "Feature scaling is the process to Normalize or Standardize the scatter data to some small range (like 0 to 1) or standardize the data so that is has mean equals to zero. Here we have two options: "
   ]
  },
  {
   "cell_type": "markdown",
   "id": "234ba62b",
   "metadata": {},
   "source": [
    " - **Normalization** ( Normalization is the process of transforming the data to a specific range, typically between 0 and 1.)\n",
    " - **Standardization** ( Standardization is the process of transforming the data to have a mean of zero and a standard deviation of one.)"
   ]
  },
  {
   "cell_type": "markdown",
   "id": "82bc7c6b",
   "metadata": {},
   "source": [
    "### Splitting Data for Training and Testing"
   ]
  },
  {
   "cell_type": "code",
   "execution_count": 17,
   "id": "c6b76f78",
   "metadata": {},
   "outputs": [],
   "source": [
    "#from sklearn.model_selection import StratifiedShuffleSplit\n",
    "\n",
    "X = uber_data_defalt[uber_data_defalt.columns.difference(['fare_amount', 'key', 'pickup_datetime'])]\n",
    "Y = uber_data_defalt['fare_amount']\n",
    "\n",
    "from sklearn.model_selection import train_test_split\n",
    "X_train, X_test, y_train, y_test = train_test_split(X, Y, test_size=0.2)\n",
    "\n"
   ]
  },
  {
   "cell_type": "markdown",
   "id": "9c96147d",
   "metadata": {},
   "source": [
    "## Select the model and train it"
   ]
  },
  {
   "cell_type": "markdown",
   "id": "36399800",
   "metadata": {},
   "source": [
    "Here we have three options of model:\n",
    "- Linear Regression\n",
    "- Decision Tree\n",
    "- Forest Regression"
   ]
  },
  {
   "cell_type": "code",
   "execution_count": 47,
   "id": "87e1e62f",
   "metadata": {},
   "outputs": [
    {
     "data": {
      "text/plain": [
       "LinearRegression()"
      ]
     },
     "execution_count": 47,
     "metadata": {},
     "output_type": "execute_result"
    }
   ],
   "source": [
    "# Using Linear Regression\n",
    "from sklearn.linear_model import LinearRegression\n",
    "\n",
    "\n",
    "lin_reg = LinearRegression()\n",
    "lin_reg.fit(X_train , y_train)\n"
   ]
  },
  {
   "cell_type": "code",
   "execution_count": 48,
   "id": "d08bc038",
   "metadata": {},
   "outputs": [],
   "source": [
    "some_data = X_train.iloc[:5]\n",
    "some_labels = y_train.iloc[:5]"
   ]
  },
  {
   "cell_type": "code",
   "execution_count": 49,
   "id": "963aad3a",
   "metadata": {},
   "outputs": [
    {
     "name": "stdout",
     "output_type": "stream",
     "text": [
      "Predictions :  [11.37726097 11.59220209 11.45222311 11.31350001 11.30324508]\n",
      "Labels :  171942    21.0\n",
      "143307    11.7\n",
      "181151    10.0\n",
      "68687      7.3\n",
      "36574      6.5\n",
      "Name: fare_amount, dtype: float64\n"
     ]
    }
   ],
   "source": [
    "print(\"Predictions : \", lin_reg.predict(some_data))\n",
    "print(\"Labels : \", some_labels)\n"
   ]
  },
  {
   "cell_type": "code",
   "execution_count": 50,
   "id": "974bfad7",
   "metadata": {},
   "outputs": [
    {
     "data": {
      "text/plain": [
       "5.174882114276875"
      ]
     },
     "execution_count": 50,
     "metadata": {},
     "output_type": "execute_result"
    }
   ],
   "source": [
    "from sklearn.metrics import mean_squared_error\n",
    "import numpy as np\n",
    "\n",
    "\n",
    "uber_prediction = lin_reg.predict(some_data)\n",
    "lin_mse = mean_squared_error(some_labels, uber_prediction)\n",
    "lin_rmse = np.sqrt(lin_mse)\n",
    "lin_rmse"
   ]
  },
  {
   "cell_type": "markdown",
   "id": "a05f42da",
   "metadata": {},
   "source": [
    "##### Now by using Decision Tree"
   ]
  },
  {
   "cell_type": "code",
   "execution_count": 23,
   "id": "c3fc9c64",
   "metadata": {},
   "outputs": [
    {
     "data": {
      "text/plain": [
       "DecisionTreeRegressor()"
      ]
     },
     "execution_count": 23,
     "metadata": {},
     "output_type": "execute_result"
    }
   ],
   "source": [
    "# Using Decision Tree\n",
    "from sklearn.tree import DecisionTreeRegressor\n",
    "\n",
    "\n",
    "tree_reg = DecisionTreeRegressor()\n",
    "tree_reg.fit(X_train , y_train)"
   ]
  },
  {
   "cell_type": "code",
   "execution_count": 24,
   "id": "62d22429",
   "metadata": {},
   "outputs": [
    {
     "name": "stdout",
     "output_type": "stream",
     "text": [
      "Predictions :  [21.  11.7 10.   7.3  6.5]\n",
      "Labels :  171942    21.0\n",
      "143307    11.7\n",
      "181151    10.0\n",
      "68687      7.3\n",
      "36574      6.5\n",
      "Name: fare_amount, dtype: float64\n"
     ]
    }
   ],
   "source": [
    "print(\"Predictions : \", tree_reg.predict(some_data))\n",
    "print(\"Labels : \", some_labels)"
   ]
  },
  {
   "cell_type": "code",
   "execution_count": 25,
   "id": "1f379257",
   "metadata": {},
   "outputs": [
    {
     "data": {
      "text/plain": [
       "0.0"
      ]
     },
     "execution_count": 25,
     "metadata": {},
     "output_type": "execute_result"
    }
   ],
   "source": [
    "uber_prediction = tree_reg.predict(some_data)\n",
    "lin_mse = mean_squared_error(some_labels, uber_prediction)\n",
    "lin_rmse = np.sqrt(lin_mse)\n",
    "lin_rmse"
   ]
  },
  {
   "cell_type": "markdown",
   "id": "1132674d",
   "metadata": {},
   "source": [
    "##### Now Applying Random Forest Regression Model"
   ]
  },
  {
   "cell_type": "code",
   "execution_count": 26,
   "id": "0c48efd2",
   "metadata": {},
   "outputs": [
    {
     "data": {
      "text/plain": [
       "RandomForestRegressor()"
      ]
     },
     "execution_count": 26,
     "metadata": {},
     "output_type": "execute_result"
    }
   ],
   "source": [
    "from sklearn.ensemble import RandomForestRegressor\n",
    "\n",
    "forest_reg = RandomForestRegressor()\n",
    "forest_reg.fit(X_train , y_train)"
   ]
  },
  {
   "cell_type": "code",
   "execution_count": 27,
   "id": "d806eb71",
   "metadata": {},
   "outputs": [
    {
     "name": "stdout",
     "output_type": "stream",
     "text": [
      "Predictions :  [22.054 11.324 10.031  7.124  6.375]\n",
      "Labels :  171942    21.0\n",
      "143307    11.7\n",
      "181151    10.0\n",
      "68687      7.3\n",
      "36574      6.5\n",
      "Name: fare_amount, dtype: float64\n"
     ]
    }
   ],
   "source": [
    "print(\"Predictions : \", forest_reg.predict(some_data))\n",
    "print(\"Labels : \", some_labels)"
   ]
  },
  {
   "cell_type": "code",
   "execution_count": 28,
   "id": "d877ea55",
   "metadata": {},
   "outputs": [
    {
     "data": {
      "text/plain": [
       "0.5098733175995741"
      ]
     },
     "execution_count": 28,
     "metadata": {},
     "output_type": "execute_result"
    }
   ],
   "source": [
    "uber_prediction = forest_reg.predict(some_data)\n",
    "lin_mse = mean_squared_error(some_labels, uber_prediction)\n",
    "lin_rmse = np.sqrt(lin_mse)\n",
    "lin_rmse"
   ]
  },
  {
   "cell_type": "markdown",
   "id": "a97120f5",
   "metadata": {},
   "source": [
    "### Cross Validation"
   ]
  },
  {
   "cell_type": "code",
   "execution_count": 32,
   "id": "344627b3",
   "metadata": {},
   "outputs": [],
   "source": [
    "def display_scores(scores):\n",
    "\tprint(\"Scores:\", scores)\n",
    "\tprint(\"Mean:\", scores.mean())\n",
    "\tprint(\"Standard deviation:\", scores.std())\n"
   ]
  },
  {
   "cell_type": "markdown",
   "id": "63a56259",
   "metadata": {},
   "source": [
    "##### For Linear Regression Model"
   ]
  },
  {
   "cell_type": "code",
   "execution_count": 42,
   "id": "a85e8a9a",
   "metadata": {},
   "outputs": [
    {
     "data": {
      "text/plain": [
       "array([ 9.71076749, 10.23772815, 10.18114918,  9.99769278,  9.81671845])"
      ]
     },
     "execution_count": 42,
     "metadata": {},
     "output_type": "execute_result"
    }
   ],
   "source": [
    "from sklearn.model_selection import cross_val_score\n",
    "\n",
    "scores = cross_val_score(lin_reg, X_train , y_train , scoring=\"neg_mean_squared_error\", cv=10)\n",
    "lin_rmse_scores = np.sqrt(-scores)\n",
    "\n",
    "lin_rmse_scores"
   ]
  },
  {
   "cell_type": "code",
   "execution_count": 34,
   "id": "3bea5814",
   "metadata": {},
   "outputs": [
    {
     "name": "stdout",
     "output_type": "stream",
     "text": [
      "Scores: [ -94.85504137  -93.74886806 -113.69317095  -95.94002231 -100.06022415\n",
      " -107.25023955 -102.35015546  -97.56935933  -99.68950217  -93.04269569]\n",
      "Mean: -99.81992790334664\n",
      "Standard deviation: 6.178273846404306\n"
     ]
    }
   ],
   "source": [
    "display_scores(scores)"
   ]
  },
  {
   "cell_type": "markdown",
   "id": "bfd45b7d",
   "metadata": {},
   "source": [
    "##### For Decision Tree"
   ]
  },
  {
   "cell_type": "code",
   "execution_count": 35,
   "id": "fd1f1f21",
   "metadata": {},
   "outputs": [
    {
     "data": {
      "text/plain": [
       "array([6.67561442, 7.53605464, 7.46678909, 7.69588127, 6.77392604,\n",
       "       6.57232911, 6.63245987, 7.65950152, 6.26232806, 6.35706671])"
      ]
     },
     "execution_count": 35,
     "metadata": {},
     "output_type": "execute_result"
    }
   ],
   "source": [
    "from sklearn.model_selection import cross_val_score\n",
    "\n",
    "scores = cross_val_score(tree_reg, X_train , y_train , scoring=\"neg_mean_squared_error\", cv=10)\n",
    "lin_rmse_scores = np.sqrt(-scores)\n",
    "\n",
    "lin_rmse_scores"
   ]
  },
  {
   "cell_type": "code",
   "execution_count": 36,
   "id": "41c8afab",
   "metadata": {},
   "outputs": [
    {
     "name": "stdout",
     "output_type": "stream",
     "text": [
      "Scores: [-44.56382789 -56.79211947 -55.75293932 -59.22658851 -45.88607394\n",
      " -43.19550995 -43.98952395 -58.66796349 -39.21675271 -40.41229719]\n",
      "Mean: -48.770359642500004\n",
      "Standard deviation: 7.493185567388135\n"
     ]
    }
   ],
   "source": [
    "display_scores(scores)"
   ]
  },
  {
   "cell_type": "markdown",
   "id": "4bb27279",
   "metadata": {},
   "source": [
    "##### For Random Forest"
   ]
  },
  {
   "cell_type": "code",
   "execution_count": 37,
   "id": "1d57fe44",
   "metadata": {},
   "outputs": [
    {
     "data": {
      "text/plain": [
       "array([4.6857882 , 4.87264652, 6.27788647, 4.75173962, 5.31589047,\n",
       "       4.86262507, 5.38566259, 5.06974486, 4.68662323, 4.48379773])"
      ]
     },
     "execution_count": 37,
     "metadata": {},
     "output_type": "execute_result"
    }
   ],
   "source": [
    "from sklearn.model_selection import cross_val_score\n",
    "\n",
    "scores = cross_val_score(forest_reg, X_train , y_train , scoring=\"neg_mean_squared_error\", cv=10)\n",
    "lin_rmse_scores = np.sqrt(-scores)\n",
    "\n",
    "lin_rmse_scores"
   ]
  },
  {
   "cell_type": "code",
   "execution_count": 38,
   "id": "110da66f",
   "metadata": {},
   "outputs": [
    {
     "name": "stdout",
     "output_type": "stream",
     "text": [
      "Scores: [-21.95661107 -23.74268411 -39.41185848 -22.57902941 -28.2586915\n",
      " -23.64512256 -29.00536149 -25.70231294 -21.96443732 -20.10444207]\n",
      "Mean: -25.637055095663186\n",
      "Standard deviation: 5.315256217298379\n"
     ]
    }
   ],
   "source": [
    "display_scores(scores)"
   ]
  },
  {
   "cell_type": "markdown",
   "id": "1dc592b8",
   "metadata": {},
   "source": [
    "From the above results, we can deduce that best model is Random Forest uptil now"
   ]
  },
  {
   "cell_type": "markdown",
   "id": "2657b3c0",
   "metadata": {},
   "source": [
    "## Fine Tune your model"
   ]
  },
  {
   "cell_type": "markdown",
   "id": "eae86f18",
   "metadata": {},
   "source": [
    "Its time to tune your model before opening test set to the model"
   ]
  },
  {
   "cell_type": "markdown",
   "id": "e1948683",
   "metadata": {},
   "source": [
    "### Grid Search"
   ]
  },
  {
   "cell_type": "code",
   "execution_count": 39,
   "id": "57e60304",
   "metadata": {},
   "outputs": [
    {
     "name": "stderr",
     "output_type": "stream",
     "text": [
      "C:\\ProgramData\\Anaconda3\\lib\\site-packages\\sklearn\\model_selection\\_validation.py:372: FitFailedWarning: \n",
      "15 fits failed out of a total of 90.\n",
      "The score on these train-test partitions for these parameters will be set to nan.\n",
      "If these failures are not expected, you can try to debug them by setting error_score='raise'.\n",
      "\n",
      "Below are more details about the failures:\n",
      "--------------------------------------------------------------------------------\n",
      "15 fits failed with the following error:\n",
      "Traceback (most recent call last):\n",
      "  File \"C:\\ProgramData\\Anaconda3\\lib\\site-packages\\sklearn\\model_selection\\_validation.py\", line 680, in _fit_and_score\n",
      "    estimator.fit(X_train, y_train, **fit_params)\n",
      "  File \"C:\\ProgramData\\Anaconda3\\lib\\site-packages\\sklearn\\ensemble\\_forest.py\", line 450, in fit\n",
      "    trees = Parallel(\n",
      "  File \"C:\\ProgramData\\Anaconda3\\lib\\site-packages\\joblib\\parallel.py\", line 1043, in __call__\n",
      "    if self.dispatch_one_batch(iterator):\n",
      "  File \"C:\\ProgramData\\Anaconda3\\lib\\site-packages\\joblib\\parallel.py\", line 861, in dispatch_one_batch\n",
      "    self._dispatch(tasks)\n",
      "  File \"C:\\ProgramData\\Anaconda3\\lib\\site-packages\\joblib\\parallel.py\", line 779, in _dispatch\n",
      "    job = self._backend.apply_async(batch, callback=cb)\n",
      "  File \"C:\\ProgramData\\Anaconda3\\lib\\site-packages\\joblib\\_parallel_backends.py\", line 208, in apply_async\n",
      "    result = ImmediateResult(func)\n",
      "  File \"C:\\ProgramData\\Anaconda3\\lib\\site-packages\\joblib\\_parallel_backends.py\", line 572, in __init__\n",
      "    self.results = batch()\n",
      "  File \"C:\\ProgramData\\Anaconda3\\lib\\site-packages\\joblib\\parallel.py\", line 262, in __call__\n",
      "    return [func(*args, **kwargs)\n",
      "  File \"C:\\ProgramData\\Anaconda3\\lib\\site-packages\\joblib\\parallel.py\", line 262, in <listcomp>\n",
      "    return [func(*args, **kwargs)\n",
      "  File \"C:\\ProgramData\\Anaconda3\\lib\\site-packages\\sklearn\\utils\\fixes.py\", line 216, in __call__\n",
      "    return self.function(*args, **kwargs)\n",
      "  File \"C:\\ProgramData\\Anaconda3\\lib\\site-packages\\sklearn\\ensemble\\_forest.py\", line 185, in _parallel_build_trees\n",
      "    tree.fit(X, y, sample_weight=curr_sample_weight, check_input=False)\n",
      "  File \"C:\\ProgramData\\Anaconda3\\lib\\site-packages\\sklearn\\tree\\_classes.py\", line 1315, in fit\n",
      "    super().fit(\n",
      "  File \"C:\\ProgramData\\Anaconda3\\lib\\site-packages\\sklearn\\tree\\_classes.py\", line 308, in fit\n",
      "    raise ValueError(\"max_features must be in (0, n_features]\")\n",
      "ValueError: max_features must be in (0, n_features]\n",
      "\n",
      "  warnings.warn(some_fits_failed_message, FitFailedWarning)\n",
      "C:\\ProgramData\\Anaconda3\\lib\\site-packages\\sklearn\\model_selection\\_search.py:969: UserWarning: One or more of the test scores are non-finite: [-36.62011892 -28.22240519 -26.01833797 -33.65846373 -27.43443101\n",
      " -25.74441594 -33.29660982 -28.07778718 -26.31423906          nan\n",
      "          nan          nan -34.56555536 -29.32935151 -34.47531278\n",
      " -29.48084995 -34.02700017 -29.55545734]\n",
      "  warnings.warn(\n",
      "C:\\ProgramData\\Anaconda3\\lib\\site-packages\\sklearn\\model_selection\\_search.py:969: UserWarning: One or more of the train scores are non-finite: [-8.44291488e+00 -5.00423101e+00 -4.00554110e+00 -8.36598362e+00\n",
      " -4.84589029e+00 -3.87738478e+00 -8.04678389e+00 -4.81639841e+00\n",
      " -3.97655583e+00             nan             nan             nan\n",
      " -8.61750420e-31 -2.39564084e-30 -8.61835469e-31 -2.38860673e-30\n",
      " -8.62282901e-31 -2.38319348e-30]\n",
      "  warnings.warn(\n"
     ]
    },
    {
     "data": {
      "text/plain": [
       "GridSearchCV(cv=5, estimator=RandomForestRegressor(),\n",
       "             param_grid=[{'max_features': [2, 4, 6, 8],\n",
       "                          'n_estimators': [3, 10, 30]},\n",
       "                         {'bootstrap': [False], 'max_features': [2, 3, 4],\n",
       "                          'n_estimators': [3, 10]}],\n",
       "             return_train_score=True, scoring='neg_mean_squared_error')"
      ]
     },
     "execution_count": 39,
     "metadata": {},
     "output_type": "execute_result"
    }
   ],
   "source": [
    "from sklearn.model_selection import GridSearchCV\n",
    "\n",
    "param_grid = [\n",
    " {'n_estimators': [3, 10, 30], 'max_features': [2, 4, 6, 8]},\n",
    " {'bootstrap': [False], 'n_estimators': [3, 10], 'max_features': [2, 3, 4]},\n",
    " ]\n",
    "\n",
    "for_reg = RandomForestRegressor()\n",
    "grid_search = GridSearchCV(for_reg, param_grid, cv=5,\n",
    " \tscoring='neg_mean_squared_error',\n",
    "\treturn_train_score=True)\n",
    "grid_search.fit(X_train , y_train)"
   ]
  },
  {
   "cell_type": "markdown",
   "id": "9ca5fe73",
   "metadata": {},
   "source": [
    "## Evaluate your system on test set"
   ]
  },
  {
   "cell_type": "markdown",
   "id": "75b959b2",
   "metadata": {},
   "source": [
    "#### Evaluation Score of Linear Regression Model"
   ]
  },
  {
   "cell_type": "code",
   "execution_count": 52,
   "id": "45020d2f",
   "metadata": {},
   "outputs": [
    {
     "name": "stdout",
     "output_type": "stream",
     "text": [
      "Training set score: 0.00\n",
      "Test set score: -0.0002556\n"
     ]
    }
   ],
   "source": [
    "print(\"Training set score: {:.2f}\".format(lin_reg.score(X_train, y_train)))\n",
    "print(\"Test set score: {:.7f}\".format(lin_reg.score(X_test, y_test)))"
   ]
  },
  {
   "cell_type": "markdown",
   "id": "1cfd2976",
   "metadata": {},
   "source": [
    "#### Evaluation score of Decision tree"
   ]
  },
  {
   "cell_type": "code",
   "execution_count": 46,
   "id": "0fc1be42",
   "metadata": {},
   "outputs": [
    {
     "name": "stdout",
     "output_type": "stream",
     "text": [
      "Training set score: 1.00\n",
      "Test set score: 0.4442256\n"
     ]
    }
   ],
   "source": [
    "print(\"Training set score: {:.2f}\".format(tree_reg.score(X_train, y_train)))\n",
    "print(\"Test set score: {:.7f}\".format(tree_reg.score(X_test, y_test)))"
   ]
  },
  {
   "cell_type": "markdown",
   "id": "2e877688",
   "metadata": {},
   "source": [
    "#### Evaluation Score of Random Forest"
   ]
  },
  {
   "cell_type": "code",
   "execution_count": 53,
   "id": "c79bcc48",
   "metadata": {},
   "outputs": [
    {
     "name": "stdout",
     "output_type": "stream",
     "text": [
      "Training set score: 0.96\n",
      "Test set score: 0.7450241\n"
     ]
    }
   ],
   "source": [
    "print(\"Training set score: {:.2f}\".format(forest_reg.score(X_train, y_train)))\n",
    "print(\"Test set score: {:.7f}\".format(forest_reg.score(X_test, y_test)))"
   ]
  },
  {
   "cell_type": "code",
   "execution_count": null,
   "id": "780ffc95",
   "metadata": {},
   "outputs": [],
   "source": []
  },
  {
   "cell_type": "code",
   "execution_count": null,
   "id": "f9bd9a9e",
   "metadata": {},
   "outputs": [],
   "source": []
  },
  {
   "cell_type": "code",
   "execution_count": null,
   "id": "d22a5a41",
   "metadata": {},
   "outputs": [],
   "source": []
  },
  {
   "cell_type": "code",
   "execution_count": null,
   "id": "d699d488",
   "metadata": {},
   "outputs": [],
   "source": []
  },
  {
   "cell_type": "code",
   "execution_count": null,
   "id": "9bf8ca34",
   "metadata": {},
   "outputs": [],
   "source": []
  },
  {
   "cell_type": "code",
   "execution_count": null,
   "id": "d976d219",
   "metadata": {},
   "outputs": [],
   "source": []
  },
  {
   "cell_type": "code",
   "execution_count": null,
   "id": "74e5ca23",
   "metadata": {},
   "outputs": [],
   "source": []
  },
  {
   "cell_type": "markdown",
   "id": "71aec0b2",
   "metadata": {},
   "source": [
    "##### Now Apply on Test Set Tree Regression Model"
   ]
  },
  {
   "cell_type": "code",
   "execution_count": null,
   "id": "e8fb8eeb",
   "metadata": {},
   "outputs": [],
   "source": [
    "uber_prediction = tree_reg.predict(X_test)\n",
    "lin_mse = mean_squared_error(y_test, uber_prediction)\n",
    "lin_rmse = np.sqrt(lin_mse)\n",
    "lin_rmse"
   ]
  },
  {
   "cell_type": "markdown",
   "id": "18a46341",
   "metadata": {},
   "source": [
    "##### For Linear Regression Test Set"
   ]
  },
  {
   "cell_type": "code",
   "execution_count": null,
   "id": "d8483db4",
   "metadata": {},
   "outputs": [],
   "source": [
    "uber_prediction = lin_reg.predict(X_test)\n",
    "lin_mse = mean_squared_error(y_test, uber_prediction)\n",
    "lin_rmse = np.sqrt(lin_mse)\n",
    "lin_rmse"
   ]
  },
  {
   "cell_type": "code",
   "execution_count": null,
   "id": "f7190cd8",
   "metadata": {},
   "outputs": [],
   "source": []
  },
  {
   "cell_type": "code",
   "execution_count": null,
   "id": "312423e5",
   "metadata": {},
   "outputs": [],
   "source": []
  },
  {
   "cell_type": "code",
   "execution_count": null,
   "id": "d77cd97f",
   "metadata": {},
   "outputs": [],
   "source": []
  },
  {
   "cell_type": "code",
   "execution_count": null,
   "id": "98bd4545",
   "metadata": {},
   "outputs": [],
   "source": [
    "uber_data_without_0 = uber_data[(uber_data.pickup_longitude != 0) & (uber_data.pickup_latitude != 0) & (uber_data.dropoff_longitude != 0) & (uber_data.dropoff_latitude != 0)] "
   ]
  },
  {
   "cell_type": "code",
   "execution_count": null,
   "id": "cb53928d",
   "metadata": {},
   "outputs": [],
   "source": [
    "(uber_data_without_0.pickup_longitude).isin([0]).any()"
   ]
  },
  {
   "cell_type": "code",
   "execution_count": null,
   "id": "8da096ba",
   "metadata": {},
   "outputs": [],
   "source": [
    "column_name = 'fare_amount'\n",
    "max_value = max(uber_data_without_0[column_name])\n",
    "min_value = min(uber_data_without_0[column_name])\n",
    "\n",
    "print(column_name, min_value, max_value)\n",
    "for i in range(int(min_value) , int(max_value)+1):\n",
    "    print(i, (uber_data_without_0[uber_data_without_0[column_name] == i]).count()[0])\n",
    "\n",
    "\n",
    "\n",
    "\n",
    "#(uber_data_without_0[uber_data_without_0.fare_amount == 10]).count()[0]"
   ]
  },
  {
   "cell_type": "code",
   "execution_count": null,
   "id": "1fe15000",
   "metadata": {},
   "outputs": [],
   "source": [
    "uber_data_without_0.plot( kind='scatter' , x ='dropoff_longitude', y = 'dropoff_latitude'  , figsize=(5,4))\n",
    "plt.plot()"
   ]
  },
  {
   "cell_type": "code",
   "execution_count": null,
   "id": "1442994f",
   "metadata": {},
   "outputs": [],
   "source": [
    "#len(uber_data_without_0.dropoff_longitude.unique())\n",
    "\n",
    "columns = uber_data_without_0.columns\n",
    "\n",
    "for i in columns:\n",
    "    print(i, len(uber_data_without_0[i].unique()))\n"
   ]
  },
  {
   "cell_type": "code",
   "execution_count": null,
   "id": "f58c2873",
   "metadata": {},
   "outputs": [],
   "source": [
    "200000- 76827"
   ]
  },
  {
   "cell_type": "code",
   "execution_count": null,
   "id": "61abf298",
   "metadata": {},
   "outputs": [],
   "source": [
    "uber_data_non_duplicates = uber_data.drop_duplicates()"
   ]
  },
  {
   "cell_type": "code",
   "execution_count": null,
   "id": "b3f5dc2a",
   "metadata": {},
   "outputs": [],
   "source": [
    "len(uber_data_non_duplicates)"
   ]
  },
  {
   "cell_type": "code",
   "execution_count": null,
   "id": "defa257f",
   "metadata": {},
   "outputs": [],
   "source": [
    "from sklearn.model_selection import train_test_split\n",
    "\n",
    "train, test = train_test_split(uber_data, test_size=0.2)"
   ]
  },
  {
   "cell_type": "code",
   "execution_count": null,
   "id": "a2d1ac43",
   "metadata": {},
   "outputs": [],
   "source": [
    "from sklearn.linear_model import LinearRegression\n",
    "from sklearn import tree"
   ]
  },
  {
   "cell_type": "code",
   "execution_count": null,
   "id": "c9b1d508",
   "metadata": {},
   "outputs": [],
   "source": [
    "x_train = train[train.columns.difference(['pickup_datetime'])]\n",
    "y_train = train['fare_amount']\n",
    "\n",
    "x_test = test[test.columns.difference(['fare_amount'])]\n",
    "y_test = test[test.columns.difference(['fare_amount'])]"
   ]
  },
  {
   "cell_type": "code",
   "execution_count": null,
   "id": "7d2c1529",
   "metadata": {},
   "outputs": [],
   "source": [
    "x_train"
   ]
  },
  {
   "cell_type": "code",
   "execution_count": null,
   "id": "bbb5ff07",
   "metadata": {},
   "outputs": [],
   "source": []
  },
  {
   "cell_type": "code",
   "execution_count": null,
   "id": "4dcd11bc",
   "metadata": {},
   "outputs": [],
   "source": []
  }
 ],
 "metadata": {
  "kernelspec": {
   "display_name": "Python 3 (ipykernel)",
   "language": "python",
   "name": "python3"
  },
  "language_info": {
   "codemirror_mode": {
    "name": "ipython",
    "version": 3
   },
   "file_extension": ".py",
   "mimetype": "text/x-python",
   "name": "python",
   "nbconvert_exporter": "python",
   "pygments_lexer": "ipython3",
   "version": "3.9.13"
  }
 },
 "nbformat": 4,
 "nbformat_minor": 5
}
